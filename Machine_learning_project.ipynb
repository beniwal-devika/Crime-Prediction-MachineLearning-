{
 "cells": [
  {
   "cell_type": "markdown",
   "metadata": {
    "collapsed": true
   },
   "source": [
    "# CS-584 PROJECT (CRIME PREDICTION)\n",
    "# Team Members \n",
    "1. Devika Beniwal - A20387387\n",
    "2. Mahima Agarwal - A20383052\n",
    "3. Sudipta Swarnakar - A20377210"
   ]
  },
  {
   "cell_type": "code",
   "execution_count": 35,
   "metadata": {
    "collapsed": true
   },
   "outputs": [],
   "source": [
    "import pandas as pd\n",
    "import numpy as np\n",
    "from sklearn.preprocessing import Imputer\n",
    "from sklearn.tree import DecisionTreeClassifier\n",
    "from sklearn.model_selection import train_test_split\n",
    "from sklearn.metrics import confusion_matrix\n",
    "from sklearn.metrics import precision_score\n",
    "from sklearn.metrics import recall_score\n",
    "from sklearn.metrics import accuracy_score\n",
    "from sklearn.feature_selection import SelectFromModel\n",
    "from sklearn.model_selection import KFold,cross_val_score\n",
    "from sklearn.preprocessing import LabelBinarizer\n",
    "from sklearn.naive_bayes import GaussianNB\n",
    "from sklearn import svm\n",
    "import matplotlib.pyplot as plt\n",
    "from sklearn import linear_model\n",
    "from sklearn.cross_validation import KFold\n",
    "import pylab as pl\n",
    "from sklearn import cross_validation\n",
    "from sklearn.linear_model import LinearRegression\n",
    "from sklearn.linear_model import Ridge\n",
    "from sklearn.model_selection import GridSearchCV\n",
    "from sklearn.preprocessing import PolynomialFeatures\n",
    "from sklearn.pipeline import Pipeline\n",
    "from sklearn.preprocessing import Imputer\n",
    "from sklearn.ensemble import RandomForestClassifier\n",
    "from sklearn.ensemble import AdaBoostClassifier\n",
    "from sklearn.kernel_approximation import RBFSampler\n",
    "from sklearn.linear_model import SGDClassifier\n",
    "from sklearn.neural_network import MLPClassifier"
   ]
  },
  {
   "cell_type": "code",
   "execution_count": 36,
   "metadata": {
    "collapsed": true
   },
   "outputs": [],
   "source": [
    "data = pd.read_csv(\"communities-crime-clean.csv\")\n"
   ]
  },
  {
   "cell_type": "code",
   "execution_count": 37,
   "metadata": {
    "collapsed": true
   },
   "outputs": [],
   "source": [
    "data.loc[data['ViolentCrimesPerPop'] > 0.1 ,'HighCrime'] = True\n",
    "data.loc[data['ViolentCrimesPerPop'] <= 0.1 ,'HighCrime'] = False"
   ]
  },
  {
   "cell_type": "code",
   "execution_count": 38,
   "metadata": {},
   "outputs": [
    {
     "name": "stdout",
     "output_type": "stream",
     "text": [
      "Positive Instances 1250.00: \n",
      "Negative Instances : 743.00\n",
      "Percentage of Positive Instances : 62.72\n",
      "Percentage of Negative Instances : 37.28\n"
     ]
    }
   ],
   "source": [
    "total = len(data)\n",
    "positiveInstances = len(data[data.HighCrime==True])\n",
    "negativeInstances = len(data[data.HighCrime==False])\n",
    "percentagePos = (float(positiveInstances)/total *100)\n",
    "percentageNeg = (float(negativeInstances)/total *100)\n",
    "print(\"Positive Instances %.2f \" %positiveInstances)\n",
    "print(\"Negative Instances : %.2f\" %negativeInstances)\n",
    "print(\"Percentage of Positive Instances : %.2f\" %percentagePos) \n",
    "print(\"Percentage of Negative Instances : %.2f\" %percentageNeg)"
   ]
  },
  {
   "cell_type": "code",
   "execution_count": 39,
   "metadata": {
    "collapsed": true
   },
   "outputs": [],
   "source": [
    "Y_train = np.asarray(data['HighCrime'], dtype=\"|S6\")\n",
    "dfT = data[data.HighCrime == True]\n",
    "dfF = data[data.HighCrime == False]\n"
   ]
  },
  {
   "cell_type": "code",
   "execution_count": 40,
   "metadata": {},
   "outputs": [
    {
     "name": "stderr",
     "output_type": "stream",
     "text": [
      "/usr/local/lib/python2.7/dist-packages/ipykernel_launcher.py:2: SettingWithCopyWarning: \n",
      "A value is trying to be set on a copy of a slice from a DataFrame\n",
      "\n",
      "See the caveats in the documentation: http://pandas.pydata.org/pandas-docs/stable/indexing.html#indexing-view-versus-copy\n",
      "  \n",
      "/usr/local/lib/python2.7/dist-packages/ipykernel_launcher.py:3: SettingWithCopyWarning: \n",
      "A value is trying to be set on a copy of a slice from a DataFrame\n",
      "\n",
      "See the caveats in the documentation: http://pandas.pydata.org/pandas-docs/stable/indexing.html#indexing-view-versus-copy\n",
      "  This is separate from the ipykernel package so we can avoid doing imports until\n"
     ]
    }
   ],
   "source": [
    "data.drop(['ViolentCrimesPerPop','HighCrime'],inplace = True,axis=1)\n",
    "dfT.drop(['HighCrime'],inplace = True,axis=1)\n",
    "dfF.drop(['HighCrime'],inplace = True,axis=1)\n"
   ]
  },
  {
   "cell_type": "code",
   "execution_count": 42,
   "metadata": {
    "collapsed": true
   },
   "outputs": [],
   "source": [
    "def replaceCommunityName(data):\n",
    "    dictName = {}\n",
    "    communityName = data['communityname']\n",
    "    cnt =1\n",
    "    for i in communityName:\n",
    "        if i in dictName.keys():\n",
    "            dictName[i] = dictName[i]+1\n",
    "        else:\n",
    "            dictName[i] = cnt\n",
    "        cnt = cnt +1\n",
    "    for index, row in data.iterrows():\n",
    "        val = row['communityname']\n",
    "        data.set_value(index, 'communityname', dictName[val])\n",
    "    return data"
   ]
  },
  {
   "cell_type": "code",
   "execution_count": 43,
   "metadata": {
    "collapsed": true
   },
   "outputs": [],
   "source": [
    "data=replaceCommunityName(data)\n",
    "X_train = data\n",
    "features = data\n",
    "lb = LabelBinarizer()\n",
    "y_train = np.array([number[0] for number in lb.fit_transform(Y_train)])"
   ]
  },
  {
   "cell_type": "markdown",
   "metadata": {},
   "source": [
    "# 1. DecisionTree"
   ]
  },
  {
   "cell_type": "markdown",
   "metadata": {},
   "source": [
    "# Decision Tree Classifier"
   ]
  },
  {
   "cell_type": "code",
   "execution_count": 11,
   "metadata": {
    "collapsed": true
   },
   "outputs": [],
   "source": [
    "clf = DecisionTreeClassifier()\n",
    "x_train,x_test,yy_train,y_test=train_test_split(X_train,y_train,test_size=0.3, random_state=42)\n",
    "clf.fit(x_train, yy_train)\n",
    "y_pred = clf.predict(x_test)"
   ]
  },
  {
   "cell_type": "code",
   "execution_count": 12,
   "metadata": {},
   "outputs": [
    {
     "data": {
      "text/plain": [
       "array([[147,  65],\n",
       "       [ 82, 304]])"
      ]
     },
     "execution_count": 12,
     "metadata": {},
     "output_type": "execute_result"
    }
   ],
   "source": [
    "confusion_matrix(y_test, y_pred)"
   ]
  },
  {
   "cell_type": "code",
   "execution_count": 13,
   "metadata": {},
   "outputs": [
    {
     "data": {
      "text/plain": [
       "0.75418060200668902"
      ]
     },
     "execution_count": 13,
     "metadata": {},
     "output_type": "execute_result"
    }
   ],
   "source": [
    "accuracy_score(y_test, y_pred)"
   ]
  },
  {
   "cell_type": "code",
   "execution_count": 14,
   "metadata": {},
   "outputs": [
    {
     "data": {
      "text/plain": [
       "0.73288481793114879"
      ]
     },
     "execution_count": 14,
     "metadata": {},
     "output_type": "execute_result"
    }
   ],
   "source": [
    "precision_score(y_test, y_pred, average='macro')"
   ]
  },
  {
   "cell_type": "code",
   "execution_count": 15,
   "metadata": {},
   "outputs": [
    {
     "data": {
      "text/plain": [
       "0.74048049662723625"
      ]
     },
     "execution_count": 15,
     "metadata": {},
     "output_type": "execute_result"
    }
   ],
   "source": [
    "recall_score(y_test, y_pred, average='macro')  "
   ]
  },
  {
   "cell_type": "code",
   "execution_count": 16,
   "metadata": {},
   "outputs": [
    {
     "data": {
      "text/plain": [
       "['state',\n",
       " 'communityname',\n",
       " 'racePctWhite',\n",
       " 'racePctHisp',\n",
       " 'agePct65up',\n",
       " 'pctWPubAsst',\n",
       " 'blackPerCap',\n",
       " 'OtherPerCap',\n",
       " 'HispPerCap',\n",
       " 'PctNotHSGrad',\n",
       " 'PctUnemployed',\n",
       " 'MalePctDivorce',\n",
       " 'MalePctNevMarr',\n",
       " 'PctKids2Par',\n",
       " 'PctTeen2Par',\n",
       " 'PctWorkMomYoungKids',\n",
       " 'NumImmig',\n",
       " 'PctImmigRec10',\n",
       " 'PctNotSpeakEnglWell',\n",
       " 'PctLargHouseOccup',\n",
       " 'PersPerOwnOccHous',\n",
       " 'HousVacant',\n",
       " 'PctSameHouse85']"
      ]
     },
     "execution_count": 16,
     "metadata": {},
     "output_type": "execute_result"
    }
   ],
   "source": [
    "model = SelectFromModel(clf,prefit=True) \n",
    "X_new = model.transform(x_train) \n",
    "top_features = model.get_support()\n",
    "names = features.columns.values\n",
    "top_feature=[]\n",
    "for i in range(0,103):\n",
    "    if top_features[i]==True:\n",
    "        top_feature.append(names[i])\n",
    "top_feature "
   ]
  },
  {
   "cell_type": "code",
   "execution_count": 17,
   "metadata": {},
   "outputs": [
    {
     "data": {
      "text/plain": [
       "'From the above features we can observe that top features like racePctWhite,racePctHisp,HispPerCap,NumImmig,\\nPctNotSpeakEnglWell,PctUnemployedare are playing a crucial role to predict crime in a particular area.'"
      ]
     },
     "execution_count": 17,
     "metadata": {},
     "output_type": "execute_result"
    }
   ],
   "source": [
    "'''From the above features we can observe that top features like racePctWhite,racePctHisp,HispPerCap,NumImmig,\n",
    "PctNotSpeakEnglWell,PctUnemployedare are playing a crucial role to predict crime in a particular area.They make sense \n",
    "because features like race , notspeakingenglishwell, unemployment are highly correlated to crime'''\n"
   ]
  },
  {
   "cell_type": "code",
   "execution_count": 18,
   "metadata": {},
   "outputs": [
    {
     "data": {
      "text/plain": [
       "array([ 0.66      ,  0.785     ,  0.665     ,  0.76884422,  0.66834171,\n",
       "        0.59798995,  0.72864322,  0.68341709,  0.78894472,  0.67839196])"
      ]
     },
     "execution_count": 18,
     "metadata": {},
     "output_type": "execute_result"
    }
   ],
   "source": [
    "clf.fit(X_train,y_train)\n",
    "scores = cross_val_score(clf,X_train,y_train,cv=10,scoring='accuracy')\n",
    "scores"
   ]
  },
  {
   "cell_type": "code",
   "execution_count": 19,
   "metadata": {},
   "outputs": [
    {
     "name": "stdout",
     "output_type": "stream",
     "text": [
      "10 Fold Accuracy = 0.702\n"
     ]
    }
   ],
   "source": [
    "print(\"10 Fold Accuracy = %0.3f\" % scores.mean())"
   ]
  },
  {
   "cell_type": "code",
   "execution_count": 20,
   "metadata": {
    "collapsed": true
   },
   "outputs": [],
   "source": [
    "recall = cross_val_score(clf, X_train, y_train, cv=10, scoring='recall')\n",
    "precision = cross_val_score(clf, X_train, y_train, cv=10, scoring='precision')\n"
   ]
  },
  {
   "cell_type": "code",
   "execution_count": 21,
   "metadata": {},
   "outputs": [
    {
     "data": {
      "text/plain": [
       "array([ 0.928,  0.856,  0.824,  0.888,  0.648,  0.56 ,  0.832,  0.648,\n",
       "        0.896,  0.656])"
      ]
     },
     "execution_count": 21,
     "metadata": {},
     "output_type": "execute_result"
    }
   ],
   "source": [
    "recall"
   ]
  },
  {
   "cell_type": "code",
   "execution_count": 22,
   "metadata": {},
   "outputs": [
    {
     "data": {
      "text/plain": [
       "array([ 0.67836257,  0.79699248,  0.75      ,  0.77142857,  0.78504673,\n",
       "        0.7244898 ,  0.76119403,  0.88235294,  0.79310345,  0.7961165 ])"
      ]
     },
     "execution_count": 22,
     "metadata": {},
     "output_type": "execute_result"
    }
   ],
   "source": [
    "precision"
   ]
  },
  {
   "cell_type": "code",
   "execution_count": 23,
   "metadata": {},
   "outputs": [
    {
     "name": "stdout",
     "output_type": "stream",
     "text": [
      "10 Fold Precision = 0.774\n",
      "10 Fold Recall = 0.774\n"
     ]
    }
   ],
   "source": [
    "print(\"10 Fold Precision = %0.3f\" % precision.mean())\n",
    "print(\"10 Fold Recall = %0.3f\" % recall.mean())"
   ]
  },
  {
   "cell_type": "code",
   "execution_count": 24,
   "metadata": {},
   "outputs": [
    {
     "data": {
      "text/plain": [
       "'We can observe that we are getting more accuracy with train_test_split whereas this accuracy is getting decreased \\nlargely when we are using 10folds cross validation as because cross validation provides more accurate estimate of\\nout-of-sample accuracy.\\nCross validation also provides a way to use our data in more efficient way as every observation is used for both \\ntraining and testing whereas there is high chances of overfitting for train_test_split.'"
      ]
     },
     "execution_count": 24,
     "metadata": {},
     "output_type": "execute_result"
    }
   ],
   "source": [
    "'''We can observe that we are getting more accuracy with train_test_split whereas this accuracy is getting decreased \n",
    "largely when we are using 10folds cross validation as because cross validation provides more accurate estimate of\n",
    "out-of-sample accuracy.\n",
    "Cross validation also provides a way to use our data in more efficient way as every observation is used for both \n",
    "training and testing whereas there is high chances of overfitting for train_test_split.'''"
   ]
  },
  {
   "cell_type": "markdown",
   "metadata": {},
   "source": [
    "# 2. Linear Classification"
   ]
  },
  {
   "cell_type": "markdown",
   "metadata": {},
   "source": [
    "# GaussianNB"
   ]
  },
  {
   "cell_type": "code",
   "execution_count": 25,
   "metadata": {},
   "outputs": [
    {
     "data": {
      "text/plain": [
       "array([ 0.79      ,  0.805     ,  0.805     ,  0.79899497,  0.69346734,\n",
       "        0.66331658,  0.8241206 ,  0.71859296,  0.70351759,  0.8040201 ])"
      ]
     },
     "execution_count": 25,
     "metadata": {},
     "output_type": "execute_result"
    }
   ],
   "source": [
    "gb = GaussianNB()\n",
    "gb.fit(X_train,y_train)\n",
    "scoresNB = cross_val_score(gb,X_train,y_train,cv=10,scoring='accuracy')\n",
    "scoresNB"
   ]
  },
  {
   "cell_type": "code",
   "execution_count": 26,
   "metadata": {},
   "outputs": [
    {
     "data": {
      "text/plain": [
       "array([ 0.784,  0.728,  0.736,  0.736,  0.544,  0.544,  0.784,  0.552,\n",
       "        0.736,  0.736])"
      ]
     },
     "execution_count": 26,
     "metadata": {},
     "output_type": "execute_result"
    }
   ],
   "source": [
    "recall = cross_val_score(gb, X_train, y_train, cv=10, scoring='recall')\n",
    "recall"
   ]
  },
  {
   "cell_type": "code",
   "execution_count": 27,
   "metadata": {},
   "outputs": [
    {
     "data": {
      "text/plain": [
       "array([ 0.86725664,  0.94791667,  0.93877551,  0.92929293,  0.94444444,\n",
       "        0.87179487,  0.9245283 ,  1.        ,  0.77966102,  0.93877551])"
      ]
     },
     "execution_count": 27,
     "metadata": {},
     "output_type": "execute_result"
    }
   ],
   "source": [
    "precision = cross_val_score(gb, X_train, y_train, cv=10, scoring='precision')\n",
    "precision"
   ]
  },
  {
   "cell_type": "code",
   "execution_count": 28,
   "metadata": {},
   "outputs": [
    {
     "name": "stdout",
     "output_type": "stream",
     "text": [
      "10 Fold Accuracy = 0.761\n",
      "10 Fold Recall = 0.688\n",
      "10 Fold Precision = 0.914\n"
     ]
    }
   ],
   "source": [
    "print(\"10 Fold Accuracy = %0.3f\" % scoresNB.mean())\n",
    "print(\"10 Fold Recall = %0.3f\" % recall.mean())\n",
    "print(\"10 Fold Precision = %0.3f\" % precision.mean())\n"
   ]
  },
  {
   "cell_type": "code",
   "execution_count": 45,
   "metadata": {
    "collapsed": true
   },
   "outputs": [],
   "source": [
    "dfF=replaceCommunityName(dfF)\n",
    "dfF = dfF.as_matrix()"
   ]
  },
  {
   "cell_type": "code",
   "execution_count": 46,
   "metadata": {
    "collapsed": true
   },
   "outputs": [],
   "source": [
    "dfT=replaceCommunityName(dfT)\n",
    "dfT = dfT.as_matrix()"
   ]
  },
  {
   "cell_type": "code",
   "execution_count": 48,
   "metadata": {},
   "outputs": [
    {
     "data": {
      "text/plain": [
       "[('agePct65up', 406.6242575519556),\n",
       " ('PctVacMore6Mos', 218.9443137420503),\n",
       " ('pctWInvInc', 147.30572748012378),\n",
       " ('MedOwnCostPctIncNoMtg', 107.58470962707582),\n",
       " ('MalePctDivorce', 102.63377492043965),\n",
       " ('PctOccupManu', 73.44444495571547),\n",
       " ('PctPersOwnOccup', 72.18317645015662),\n",
       " ('MalePctNevMarr', 44.18280742828296),\n",
       " ('MedYrHousBuilt', 43.39527963498466),\n",
       " ('PctHousOwnOcc', 27.47125533480012)]"
      ]
     },
     "execution_count": 48,
     "metadata": {},
     "output_type": "execute_result"
    }
   ],
   "source": [
    "dic={}\n",
    "for i in range(0,103):\n",
    "    m1 = dfT[:,i].mean()\n",
    "    m2 = dfF[:,i].mean()\n",
    "    u1 = np.var(dfT[:,i])\n",
    "    u2 = np.var(dfF[:,i])\n",
    "    diff = (m1-m2)/(u1-u2)\n",
    "    dic[data.columns[i]] = diff \n",
    "    \n",
    "most_predictive_features = sorted(dic.iteritems(), key=lambda (k, v): (-v, k))[:10]\n",
    "most_predictive_features"
   ]
  },
  {
   "cell_type": "code",
   "execution_count": 96,
   "metadata": {},
   "outputs": [
    {
     "data": {
      "text/plain": [
       "'In order to predict top features we are calculating mean for each features of true intances(m1) and mean for \\neach features of false instances(m2) and also calculating standard deviation respectively for each of them.\\nHere difference of m1 and m2 tells us how different features are in comparison with each others whereas summation\\nof standard deviation is used to have a distribution of unit variance.\\nSo finally formula (m1-m2)/(u1+u2) tells us about how independent the features are in comparison with each others.\\n'"
      ]
     },
     "execution_count": 96,
     "metadata": {},
     "output_type": "execute_result"
    }
   ],
   "source": [
    "'''In order to predict top features we are calculating mean for each features of true intances(m1) and mean for \n",
    "each features of false instances(m2) and also calculating standard deviation respectively for each of them.\n",
    "Here difference of m1 and m2 tells us how different features are in comparison with each others whereas summation\n",
    "of standard deviation is used to have a distribution of unit variance.\n",
    "So finally formula (m1-m2)/(u1+u2) tells us about how independent the features are in comparison with each others.\n",
    "'''"
   ]
  },
  {
   "cell_type": "code",
   "execution_count": null,
   "metadata": {
    "collapsed": true
   },
   "outputs": [],
   "source": [
    "'''We can observe that Naive Bayes is giving better accuracy in comparison with DecisionTreeClassifier'''"
   ]
  },
  {
   "cell_type": "markdown",
   "metadata": {},
   "source": [
    "# Linear SVC"
   ]
  },
  {
   "cell_type": "code",
   "execution_count": 47,
   "metadata": {},
   "outputs": [
    {
     "data": {
      "text/plain": [
       "SVC(C=1.0, cache_size=200, class_weight=None, coef0=0.0,\n",
       "  decision_function_shape=None, degree=3, gamma='auto', kernel='linear',\n",
       "  max_iter=-1, probability=False, random_state=None, shrinking=True,\n",
       "  tol=0.001, verbose=False)"
      ]
     },
     "execution_count": 47,
     "metadata": {},
     "output_type": "execute_result"
    }
   ],
   "source": [
    "from sklearn import svm\n",
    "svc = svm.SVC(kernel='linear')\n",
    "svc.fit(X_train,Y_train)  "
   ]
  },
  {
   "cell_type": "code",
   "execution_count": 48,
   "metadata": {
    "collapsed": true
   },
   "outputs": [],
   "source": [
    "scoresSVC=cross_val_score(svc,X_train,y_train,cv=10,scoring='accuracy')"
   ]
  },
  {
   "cell_type": "code",
   "execution_count": 49,
   "metadata": {},
   "outputs": [
    {
     "data": {
      "text/plain": [
       "array([ 0.765     ,  0.825     ,  0.87      ,  0.84924623,  0.71859296,\n",
       "        0.73869347,  0.8241206 ,  0.8040201 ,  0.82914573,  0.81407035])"
      ]
     },
     "execution_count": 49,
     "metadata": {},
     "output_type": "execute_result"
    }
   ],
   "source": [
    "scoresSVC"
   ]
  },
  {
   "cell_type": "code",
   "execution_count": 50,
   "metadata": {},
   "outputs": [
    {
     "data": {
      "text/plain": [
       "0.80378894472361817"
      ]
     },
     "execution_count": 50,
     "metadata": {},
     "output_type": "execute_result"
    }
   ],
   "source": [
    "scoresSVC.mean()"
   ]
  },
  {
   "cell_type": "code",
   "execution_count": 51,
   "metadata": {},
   "outputs": [
    {
     "name": "stdout",
     "output_type": "stream",
     "text": [
      "('Precision', 0.85505999926424248, array([ 0.72674419,  0.79605263,  0.85611511,  0.88      ,  0.89655172,\n",
      "        0.85436893,  0.8515625 ,  0.97777778,  0.83211679,  0.87931034]))\n"
     ]
    }
   ],
   "source": [
    "precision = cross_val_score(svc, X_train, y_train, cv=10, scoring='precision')\n",
    "print('Precision', np.mean(precision), precision)"
   ]
  },
  {
   "cell_type": "code",
   "execution_count": 52,
   "metadata": {},
   "outputs": [
    {
     "name": "stdout",
     "output_type": "stream",
     "text": [
      "('Recall', 0.84320000000000006, array([ 1.   ,  0.968,  0.952,  0.88 ,  0.624,  0.704,  0.872,  0.704,\n",
      "        0.912,  0.816]))\n"
     ]
    }
   ],
   "source": [
    "recall = cross_val_score(svc, X_train, y_train, cv=10, scoring='recall')\n",
    "print('Recall', np.mean(recall), recall)"
   ]
  },
  {
   "cell_type": "code",
   "execution_count": 53,
   "metadata": {
    "collapsed": true
   },
   "outputs": [],
   "source": [
    "coef = svc.coef_\n",
    "#svm_weights = (svc.coef_ ** 2).sum(axis=0)"
   ]
  },
  {
   "cell_type": "code",
   "execution_count": 54,
   "metadata": {
    "collapsed": true
   },
   "outputs": [],
   "source": [
    "coef_dict = {}\n",
    "for coef, feat in zip(coef,X_train):\n",
    "    coef_dict[feat] = coef"
   ]
  },
  {
   "cell_type": "code",
   "execution_count": 55,
   "metadata": {
    "collapsed": true
   },
   "outputs": [],
   "source": [
    "top_positive_coefficients = np.argsort(coef)[-10:]\n",
    "top_negative_coefficients = np.argsort(coef)[:10]"
   ]
  },
  {
   "cell_type": "code",
   "execution_count": 56,
   "metadata": {
    "collapsed": true
   },
   "outputs": [],
   "source": [
    "top_coefficients = np.hstack([top_negative_coefficients, top_positive_coefficients])"
   ]
  },
  {
   "cell_type": "code",
   "execution_count": 57,
   "metadata": {
    "collapsed": true
   },
   "outputs": [],
   "source": [
    "import matplotlib.pyplot as plt"
   ]
  },
  {
   "cell_type": "code",
   "execution_count": 58,
   "metadata": {
    "collapsed": true
   },
   "outputs": [],
   "source": [
    "plt.figure(figsize=(15, 5))\n",
    "colors = ['red' if c < 0 else 'blue' for c in coef[top_coefficients]]"
   ]
  },
  {
   "cell_type": "code",
   "execution_count": 59,
   "metadata": {},
   "outputs": [
    {
     "data": {
      "text/plain": [
       "<Container object of 20 artists>"
      ]
     },
     "execution_count": 59,
     "metadata": {},
     "output_type": "execute_result"
    }
   ],
   "source": [
    " plt.bar(np.arange(2*10), coef[top_coefficients], color=colors)"
   ]
  },
  {
   "cell_type": "code",
   "execution_count": 60,
   "metadata": {},
   "outputs": [
    {
     "data": {
      "image/png": "[encoded data removed]",
      "text/plain": [
       "<matplotlib.figure.Figure at 0x7f473db9b9d0>"
      ]
     },
     "metadata": {},
     "output_type": "display_data"
    }
   ],
   "source": [
    "plt.xticks(np.arange(1, 1 + 2 * 10), X_train[top_coefficients], rotation=60, ha='right')\n",
    "plt.show()"
   ]
  },
  {
   "cell_type": "code",
   "execution_count": null,
   "metadata": {
    "collapsed": true
   },
   "outputs": [],
   "source": [
    "'''Once a linear SVM is fit to data (e.g., svm.fit(features, labels)), the coefficients can be accessed with \n",
    "svm.coef_.Recall that a linear SVM creates a hyperplane that uses support vectors to maximise the distance between \n",
    "the two classes. The weights obtained from svm.coef_ represent the vector coordinates which are orthogonal to the \n",
    "hyperplane and their direction indicates the predicted class.\n",
    "The absolute size of the coefficients(feature weights) in relation to each other can then be used to determine \n",
    "feature importance for the data separation task.'''"
   ]
  },
  {
   "cell_type": "code",
   "execution_count": null,
   "metadata": {
    "collapsed": true
   },
   "outputs": [],
   "source": [
    "'''We can observe that Linear SVM is giving much much better accuracy in comparison with DecisionTreeClassifier'''"
   ]
  },
  {
   "cell_type": "markdown",
   "metadata": {
    "collapsed": true
   },
   "source": [
    "# 3. Regression"
   ]
  },
  {
   "cell_type": "markdown",
   "metadata": {
    "collapsed": true
   },
   "source": [
    "# LinearRegression"
   ]
  },
  {
   "cell_type": "code",
   "execution_count": 32,
   "metadata": {
    "collapsed": true
   },
   "outputs": [],
   "source": [
    "df = pd.read_csv(\"communities-crime-clean.csv\")"
   ]
  },
  {
   "cell_type": "code",
   "execution_count": 33,
   "metadata": {
    "collapsed": true
   },
   "outputs": [],
   "source": [
    "y_linear_train = df['ViolentCrimesPerPop']\n",
    "yy = df['ViolentCrimesPerPop']\n",
    "X_High = df[df['ViolentCrimesPerPop'] > 0.1]\n",
    "X_Low = df[df['ViolentCrimesPerPop'] <= 0.1]\n",
    "Y_High = X_High['ViolentCrimesPerPop']\n",
    "Y_Low = X_Low['ViolentCrimesPerPop']"
   ]
  },
  {
   "cell_type": "code",
   "execution_count": 34,
   "metadata": {},
   "outputs": [
    {
     "name": "stderr",
     "output_type": "stream",
     "text": [
      "/usr/local/lib/python2.7/dist-packages/ipykernel_launcher.py:2: SettingWithCopyWarning: \n",
      "A value is trying to be set on a copy of a slice from a DataFrame\n",
      "\n",
      "See the caveats in the documentation: http://pandas.pydata.org/pandas-docs/stable/indexing.html#indexing-view-versus-copy\n",
      "  \n",
      "/usr/local/lib/python2.7/dist-packages/ipykernel_launcher.py:3: SettingWithCopyWarning: \n",
      "A value is trying to be set on a copy of a slice from a DataFrame\n",
      "\n",
      "See the caveats in the documentation: http://pandas.pydata.org/pandas-docs/stable/indexing.html#indexing-view-versus-copy\n",
      "  This is separate from the ipykernel package so we can avoid doing imports until\n"
     ]
    }
   ],
   "source": [
    "df.drop(['ViolentCrimesPerPop'],axis=1, inplace=True)\n",
    "X_High.drop(['ViolentCrimesPerPop'],axis=1, inplace=True)\n",
    "X_Low.drop(['ViolentCrimesPerPop'],axis=1, inplace=True)"
   ]
  },
  {
   "cell_type": "code",
   "execution_count": 51,
   "metadata": {
    "collapsed": true
   },
   "outputs": [],
   "source": [
    "df=replaceCommunityName(df)\n",
    "x_linear_train = df\n",
    "features = df"
   ]
  },
  {
   "cell_type": "code",
   "execution_count": 52,
   "metadata": {
    "collapsed": true
   },
   "outputs": [],
   "source": [
    "x_linear_train = np.array(x_linear_train, dtype = 'float_')\n",
    "y_linear_train = np.array(y_linear_train, dtype = 'float_')"
   ]
  },
  {
   "cell_type": "code",
   "execution_count": 53,
   "metadata": {
    "collapsed": true
   },
   "outputs": [],
   "source": [
    "regr = linear_model.LinearRegression()\n",
    "regr.fit(x_linear_train,y_linear_train)\n",
    "mse = cross_validation.cross_val_score(regr,x_linear_train, y_linear_train, scoring='neg_mean_squared_error', cv=10,)\n",
    "mse_10cv = mse.mean()*(-1)"
   ]
  },
  {
   "cell_type": "code",
   "execution_count": 54,
   "metadata": {
    "collapsed": true
   },
   "outputs": [],
   "source": [
    "p = regr.predict(x_linear_train)\n",
    "err = abs(p-y_linear_train)"
   ]
  },
  {
   "cell_type": "code",
   "execution_count": 55,
   "metadata": {},
   "outputs": [
    {
     "name": "stdout",
     "output_type": "stream",
     "text": [
      "Method: Simple Linear Regression\n",
      "MSE on training: 0.0164\n",
      "MSE on 10-fold CV: 0.0199\n"
     ]
    }
   ],
   "source": [
    "total_error = np.dot(err,err)\n",
    "mse_train =(total_error/len(p))\n",
    "method_name = 'Simple Linear Regression'\n",
    "print('Method: %s' %method_name)\n",
    "print('MSE on training: %.4f' %mse_train)\n",
    "print('MSE on 10-fold CV: %.4f' %mse_10cv)"
   ]
  },
  {
   "cell_type": "code",
   "execution_count": 56,
   "metadata": {
    "collapsed": true
   },
   "outputs": [],
   "source": [
    "model = SelectFromModel(regr,prefit=True) \n",
    "X_new = model.transform(x_linear_train) \n",
    "top_features=model.get_support()\n",
    "names = features.columns.values\n",
    "top_feature=[]\n",
    "for i in range(0,103):\n",
    "    if top_features[i]==True:\n",
    "        top_feature.append(names[i])"
   ]
  },
  {
   "cell_type": "code",
   "execution_count": 57,
   "metadata": {
    "collapsed": true
   },
   "outputs": [],
   "source": [
    "X_High=replaceCommunityName(X_High)\n",
    "X_Low=replaceCommunityName(X_Low)\n"
   ]
  },
  {
   "cell_type": "code",
   "execution_count": 58,
   "metadata": {},
   "outputs": [
    {
     "data": {
      "text/plain": [
       "LinearRegression(copy_X=True, fit_intercept=True, n_jobs=1, normalize=False)"
      ]
     },
     "execution_count": 58,
     "metadata": {},
     "output_type": "execute_result"
    }
   ],
   "source": [
    "regr.fit(X_High,Y_High)"
   ]
  },
  {
   "cell_type": "code",
   "execution_count": 59,
   "metadata": {
    "collapsed": true
   },
   "outputs": [],
   "source": [
    "model = SelectFromModel(regr,prefit=True) \n",
    "X_new = model.transform(X_High) \n",
    "top_features_high=model.get_support()"
   ]
  },
  {
   "cell_type": "code",
   "execution_count": 60,
   "metadata": {},
   "outputs": [
    {
     "data": {
      "text/plain": [
       "['population',\n",
       " 'racepctblack',\n",
       " 'agePct12t29',\n",
       " 'agePct16t24',\n",
       " 'numbUrban',\n",
       " 'medIncome',\n",
       " 'pctWWage',\n",
       " 'pctWInvInc',\n",
       " 'medFamInc',\n",
       " 'whitePerCap',\n",
       " 'PctPopUnderPov',\n",
       " 'PctEmploy',\n",
       " 'MalePctDivorce',\n",
       " 'MalePctNevMarr',\n",
       " 'TotalPctDiv',\n",
       " 'PctKids2Par',\n",
       " 'PctWorkMom',\n",
       " 'PctRecImmig5',\n",
       " 'PctRecImmig8',\n",
       " 'PersPerOccupHous',\n",
       " 'PersPerRentOccHous',\n",
       " 'PctPersOwnOccup',\n",
       " 'PctPersDenseHous',\n",
       " 'PctHousOwnOcc',\n",
       " 'OwnOccLowQuart',\n",
       " 'OwnOccMedVal',\n",
       " 'RentLowQ',\n",
       " 'RentHighQ',\n",
       " 'MedRent']"
      ]
     },
     "execution_count": 60,
     "metadata": {},
     "output_type": "execute_result"
    }
   ],
   "source": [
    "top_feature_for_HighCrime=[]\n",
    "for i in range(0,103):\n",
    "    if top_features_high[i]==True:\n",
    "        top_feature_for_HighCrime.append(names[i])\n",
    "top_feature_for_HighCrime"
   ]
  },
  {
   "cell_type": "code",
   "execution_count": 61,
   "metadata": {},
   "outputs": [
    {
     "data": {
      "text/plain": [
       "LinearRegression(copy_X=True, fit_intercept=True, n_jobs=1, normalize=False)"
      ]
     },
     "execution_count": 61,
     "metadata": {},
     "output_type": "execute_result"
    }
   ],
   "source": [
    "regr.fit(X_Low,Y_Low)"
   ]
  },
  {
   "cell_type": "code",
   "execution_count": 62,
   "metadata": {
    "collapsed": true
   },
   "outputs": [],
   "source": [
    "model = SelectFromModel(regr,prefit=True) \n",
    "X_new = model.transform(X_Low) \n",
    "top_features_low=model.get_support()"
   ]
  },
  {
   "cell_type": "code",
   "execution_count": 63,
   "metadata": {},
   "outputs": [
    {
     "data": {
      "text/plain": [
       "['population',\n",
       " 'racepctblack',\n",
       " 'racePctWhite',\n",
       " 'racePctHisp',\n",
       " 'agePct65up',\n",
       " 'numbUrban',\n",
       " 'medIncome',\n",
       " 'pctWInvInc',\n",
       " 'medFamInc',\n",
       " 'NumUnderPov',\n",
       " 'MalePctDivorce',\n",
       " 'FemalePctDiv',\n",
       " 'TotalPctDiv',\n",
       " 'PersPerFam',\n",
       " 'PctFam2Par',\n",
       " 'PctKids2Par',\n",
       " 'NumIlleg',\n",
       " 'PctLargHouseFam',\n",
       " 'PctLargHouseOccup',\n",
       " 'PersPerOccupHous',\n",
       " 'PersPerOwnOccHous',\n",
       " 'PctPersOwnOccup',\n",
       " 'HousVacant',\n",
       " 'PctHousOwnOcc',\n",
       " 'NumInShelters']"
      ]
     },
     "execution_count": 63,
     "metadata": {},
     "output_type": "execute_result"
    }
   ],
   "source": [
    "top_feature_for_LowCrime=[]\n",
    "for i in range(0,103):\n",
    "    if top_features_low[i]==True:\n",
    "        top_feature_for_LowCrime.append(names[i])\n",
    "top_feature_for_LowCrime"
   ]
  },
  {
   "cell_type": "markdown",
   "metadata": {},
   "source": [
    "# RidgeRegression"
   ]
  },
  {
   "cell_type": "code",
   "execution_count": 64,
   "metadata": {},
   "outputs": [
    {
     "data": {
      "text/plain": [
       "GridSearchCV(cv=None, error_score='raise',\n",
       "       estimator=Ridge(alpha=1.0, copy_X=True, fit_intercept=True, max_iter=None,\n",
       "   normalize=False, random_state=None, solver='auto', tol=0.001),\n",
       "       fit_params={}, iid=True, n_jobs=1,\n",
       "       param_grid={'alpha': array([  1.00000e+01,   1.00000e+00,   1.00000e-01,   1.00000e-02,\n",
       "         1.00000e-03])},\n",
       "       pre_dispatch='2*n_jobs', refit=True, return_train_score=True,\n",
       "       scoring=None, verbose=0)"
      ]
     },
     "execution_count": 64,
     "metadata": {},
     "output_type": "execute_result"
    }
   ],
   "source": [
    "# Grid Search for Algorithm Tuning\n",
    "alphas = np.array([10,1,0.1,0.01,0.001])\n",
    "# create and fit a ridge regression model, testing each alpha\n",
    "model = Ridge()\n",
    "grid = GridSearchCV(estimator=model, param_grid=dict(alpha=alphas))\n",
    "grid.fit(x_linear_train,y_linear_train)"
   ]
  },
  {
   "cell_type": "code",
   "execution_count": 71,
   "metadata": {},
   "outputs": [
    {
     "name": "stdout",
     "output_type": "stream",
     "text": [
      "Best Alpha : 10\n"
     ]
    }
   ],
   "source": [
    "# Value of Best Alpha\n",
    "print(\"Best Alpha : %.0f\" %grid.best_estimator_.alpha)"
   ]
  },
  {
   "cell_type": "code",
   "execution_count": 72,
   "metadata": {
    "collapsed": true
   },
   "outputs": [],
   "source": [
    "ridge = Ridge(alpha=10.0)\n",
    "mse1 = cross_validation.cross_val_score(ridge,x_linear_train, y_linear_train, scoring='neg_mean_squared_error', cv=10,)\n",
    "mse_10cv = mse1.mean()*(-1)"
   ]
  },
  {
   "cell_type": "code",
   "execution_count": 73,
   "metadata": {},
   "outputs": [
    {
     "data": {
      "text/plain": [
       "Ridge(alpha=10.0, copy_X=True, fit_intercept=True, max_iter=None,\n",
       "   normalize=False, random_state=None, solver='auto', tol=0.001)"
      ]
     },
     "execution_count": 73,
     "metadata": {},
     "output_type": "execute_result"
    }
   ],
   "source": [
    "ridge.fit(x_linear_train,y_linear_train)"
   ]
  },
  {
   "cell_type": "code",
   "execution_count": 74,
   "metadata": {
    "collapsed": true
   },
   "outputs": [],
   "source": [
    "pred = ridge.predict(x_linear_train)"
   ]
  },
  {
   "cell_type": "code",
   "execution_count": 75,
   "metadata": {
    "collapsed": true
   },
   "outputs": [],
   "source": [
    "err = abs(pred - y_linear_train)"
   ]
  },
  {
   "cell_type": "code",
   "execution_count": 76,
   "metadata": {
    "collapsed": true
   },
   "outputs": [],
   "source": [
    "# Dot product of error vector with itself gives us the sum of squared errors\n",
    "total_error = np.dot(err,err)\n",
    "# Compute MSE\n",
    "mse_train =(total_error/len(pred))"
   ]
  },
  {
   "cell_type": "code",
   "execution_count": 77,
   "metadata": {},
   "outputs": [
    {
     "name": "stdout",
     "output_type": "stream",
     "text": [
      "Method: Ridge Regression\n",
      "MSE on training: 0.0174\n",
      "MSE on 10-fold CV: 0.0197\n"
     ]
    }
   ],
   "source": [
    "method_name = 'Ridge Regression'\n",
    "print('Method: %s' %method_name)\n",
    "print('MSE on training: %.4f' %mse_train)\n",
    "print('MSE on 10-fold CV: %.4f' %mse_10cv)"
   ]
  },
  {
   "cell_type": "code",
   "execution_count": 78,
   "metadata": {},
   "outputs": [
    {
     "data": {
      "text/plain": [
       "\"we can see that Ridge Regression gives an estimate which minimize MSE in comparison to Linear Regression.\\nAs for overfitting,we can observe that Ridge has reduced overfitting due to its addition of penalty term.\\nWe can also see that Ridge has chosen the feature's estimates to penalize in such a way that less influential \\nfeatures (Some features cause very small influence on dependent variable) undergo more penalization.\\n\""
      ]
     },
     "execution_count": 78,
     "metadata": {},
     "output_type": "execute_result"
    }
   ],
   "source": [
    "'''we can see that Ridge Regression gives an estimate which minimize MSE in comparison to Linear Regression.\n",
    "As for overfitting,we can observe that Ridge has reduced overfitting due to its addition of penalty term.\n",
    "We can also see that Ridge has chosen the feature's estimates to penalize in such a way that less influential \n",
    "features (Some features cause very small influence on dependent variable) undergo more penalization.\n",
    "'''"
   ]
  },
  {
   "cell_type": "markdown",
   "metadata": {},
   "source": [
    "# Quaddratic Polynomial Regression"
   ]
  },
  {
   "cell_type": "code",
   "execution_count": 79,
   "metadata": {
    "collapsed": true
   },
   "outputs": [],
   "source": [
    "model = Pipeline([('poly', PolynomialFeatures(degree=2)),('linear', LinearRegression(fit_intercept=False))])\n",
    "mse2 = cross_validation.cross_val_score(ridge,x_linear_train, y_linear_train, scoring='neg_mean_squared_error',cv=10,)\n",
    "mean_squared_error=mse2.mean()*(-1)"
   ]
  },
  {
   "cell_type": "code",
   "execution_count": 80,
   "metadata": {
    "collapsed": true
   },
   "outputs": [],
   "source": [
    "model = model.fit(x_linear_train,y_linear_train)\n",
    "pr=model.predict(x_linear_train)\n",
    "er = abs(pr-y_linear_train)"
   ]
  },
  {
   "cell_type": "code",
   "execution_count": 81,
   "metadata": {
    "collapsed": true
   },
   "outputs": [],
   "source": [
    "# Dot product of error vector with itself gives us the sum of squared errors\n",
    "total_error = np.dot(er,er)\n",
    "# Compute MSE\n",
    "mse_train =(total_error/len(pr))"
   ]
  },
  {
   "cell_type": "code",
   "execution_count": 82,
   "metadata": {},
   "outputs": [
    {
     "name": "stdout",
     "output_type": "stream",
     "text": [
      "Method: Quadratic Ploynomial Regression\n",
      "MSE on training: 0.0000\n",
      "MSE on 10-fold CV: 0.0197\n"
     ]
    }
   ],
   "source": [
    "method_name = 'Quadratic Ploynomial Regression'\n",
    "print('Method: %s' %method_name)\n",
    "print('MSE on training: %.4f' %mse_train)\n",
    "print('MSE on 10-fold CV: %.4f' %mean_squared_error)"
   ]
  },
  {
   "cell_type": "code",
   "execution_count": null,
   "metadata": {
    "collapsed": true
   },
   "outputs": [],
   "source": [
    "'''Yes , we can see from MSE calculation that quadratic model is performing better than linear model'''"
   ]
  },
  {
   "cell_type": "markdown",
   "metadata": {},
   "source": [
    "# 4. Dirty Data"
   ]
  },
  {
   "cell_type": "code",
   "execution_count": 225,
   "metadata": {
    "collapsed": true
   },
   "outputs": [],
   "source": [
    "df_dirty = pd.read_csv(\"communities-crime-full.csv\")"
   ]
  },
  {
   "cell_type": "code",
   "execution_count": 226,
   "metadata": {
    "collapsed": true
   },
   "outputs": [],
   "source": [
    "df_dirty.loc[df_dirty['ViolentCrimesPerPop'] > 0.1,'HighCrime'] = True\n",
    "df_dirty.loc[df_dirty['ViolentCrimesPerPop'] <= 0.1,'HighCrime'] = False"
   ]
  },
  {
   "cell_type": "code",
   "execution_count": 227,
   "metadata": {
    "collapsed": true
   },
   "outputs": [],
   "source": [
    "Y_train = np.asarray(df_dirty['HighCrime'], dtype=\"|S6\")"
   ]
  },
  {
   "cell_type": "code",
   "execution_count": 228,
   "metadata": {
    "collapsed": true
   },
   "outputs": [],
   "source": [
    "df_dirty.drop(['ViolentCrimesPerPop','HighCrime'],inplace = True,axis=1)"
   ]
  },
  {
   "cell_type": "code",
   "execution_count": 229,
   "metadata": {
    "collapsed": true
   },
   "outputs": [],
   "source": [
    "df_dirty=replaceCommunityName(df_dirty)"
   ]
  },
  {
   "cell_type": "code",
   "execution_count": 232,
   "metadata": {
    "collapsed": true
   },
   "outputs": [],
   "source": [
    "X_train = df_dirty\n",
    "XX = X_train.replace('?', np.NaN)"
   ]
  },
  {
   "cell_type": "code",
   "execution_count": 234,
   "metadata": {
    "collapsed": true
   },
   "outputs": [],
   "source": [
    "imp = Imputer(missing_values='NaN', strategy='mean', axis=0)\n",
    "imp=imp.fit(XX)\n",
    "x =imp.transform(XX)"
   ]
  },
  {
   "cell_type": "code",
   "execution_count": 235,
   "metadata": {},
   "outputs": [
    {
     "data": {
      "text/plain": [
       "RandomForestClassifier(bootstrap=True, class_weight=None, criterion='gini',\n",
       "            max_depth=10, max_features=10, max_leaf_nodes=None,\n",
       "            min_impurity_split=1e-07, min_samples_leaf=1,\n",
       "            min_samples_split=2, min_weight_fraction_leaf=0.0,\n",
       "            n_estimators=100, n_jobs=1, oob_score=False, random_state=None,\n",
       "            verbose=0, warm_start=False)"
      ]
     },
     "execution_count": 235,
     "metadata": {},
     "output_type": "execute_result"
    }
   ],
   "source": [
    "x_train,x_test,yy_train,y_test = train_test_split(x,Y_train,test_size=0.3, random_state=42)\n",
    "clf.fit(x_train, yy_train)"
   ]
  },
  {
   "cell_type": "code",
   "execution_count": 236,
   "metadata": {},
   "outputs": [
    {
     "data": {
      "text/plain": [
       "0.81636060100166941"
      ]
     },
     "execution_count": 236,
     "metadata": {},
     "output_type": "execute_result"
    }
   ],
   "source": [
    "clf.score(x_test, y_test)"
   ]
  },
  {
   "cell_type": "code",
   "execution_count": 241,
   "metadata": {},
   "outputs": [
    {
     "data": {
      "text/plain": [
       "0.83149166229155713"
      ]
     },
     "execution_count": 241,
     "metadata": {},
     "output_type": "execute_result"
    }
   ],
   "source": [
    "clf.fit(x, Y_train)\n",
    "scores = cross_val_score(clf,x,Y_train,cv=10,scoring='accuracy')\n",
    "scores.mean()"
   ]
  },
  {
   "cell_type": "code",
   "execution_count": 242,
   "metadata": {
    "collapsed": true
   },
   "outputs": [],
   "source": [
    "Y_train = np.array([number[0] for number in lb.fit_transform(Y_train)])\n"
   ]
  },
  {
   "cell_type": "markdown",
   "metadata": {},
   "source": [
    "# With Cross Validation"
   ]
  },
  {
   "cell_type": "code",
   "execution_count": 243,
   "metadata": {},
   "outputs": [
    {
     "data": {
      "text/plain": [
       "0.86309169533919106"
      ]
     },
     "execution_count": 243,
     "metadata": {},
     "output_type": "execute_result"
    }
   ],
   "source": [
    "precisionDirty = cross_val_score(clf, x, Y_train, cv=10, scoring='precision')\n",
    "precisionDirty.mean()"
   ]
  },
  {
   "cell_type": "code",
   "execution_count": 244,
   "metadata": {},
   "outputs": [
    {
     "data": {
      "text/plain": [
       "0.86810158730158737"
      ]
     },
     "execution_count": 244,
     "metadata": {},
     "output_type": "execute_result"
    }
   ],
   "source": [
    "recallDirty = cross_val_score(clf, x, Y_train, cv=10, scoring='recall')\n",
    "recallDirty.mean()"
   ]
  },
  {
   "cell_type": "code",
   "execution_count": 245,
   "metadata": {},
   "outputs": [
    {
     "data": {
      "text/plain": [
       "'We can see that the accuracy has been increased after using Imputation with mean approach which replaces \\n all missing values with mean along the axis.'"
      ]
     },
     "execution_count": 245,
     "metadata": {},
     "output_type": "execute_result"
    }
   ],
   "source": [
    "'''We can see that the accuracy has been increased after using Imputation with mean approach which replaces \n",
    " all missing values with mean along the axis.'''"
   ]
  },
  {
   "cell_type": "code",
   "execution_count": null,
   "metadata": {
    "collapsed": true
   },
   "outputs": [],
   "source": [
    "'''Here in order to deal with missing values we could have easily removed those rows which contains missing values\n",
    "but in that case we would have lost lots of good features.Rather it is better approach to replace it with mean along\n",
    "the axis using Imputer\n",
    "'''"
   ]
  },
  {
   "cell_type": "markdown",
   "metadata": {},
   "source": [
    "# 5. Team Of Three"
   ]
  },
  {
   "cell_type": "markdown",
   "metadata": {},
   "source": [
    "# Non LinearSVM(Polynomial Kernel)"
   ]
  },
  {
   "cell_type": "markdown",
   "metadata": {},
   "source": [
    "# With Clean Dataset"
   ]
  },
  {
   "cell_type": "code",
   "execution_count": 216,
   "metadata": {},
   "outputs": [
    {
     "data": {
      "text/plain": [
       "0.24522613065326632"
      ]
     },
     "execution_count": 216,
     "metadata": {},
     "output_type": "execute_result"
    }
   ],
   "source": [
    "X_train = data\n",
    "pl = svm.OneClassSVM(kernel=\"poly\", gamma=2)\n",
    "pl.fit(X_train)\n",
    "scores=cross_val_score(pl,X_train,y_train,cv=10,scoring='accuracy')\n",
    "scores.mean()"
   ]
  },
  {
   "cell_type": "code",
   "execution_count": 224,
   "metadata": {},
   "outputs": [
    {
     "data": {
      "text/plain": [
       "'The accurayc is dying as because our data is linearly separable so applying non-linear kernel is not a \\ngreat idea'"
      ]
     },
     "execution_count": 224,
     "metadata": {},
     "output_type": "execute_result"
    }
   ],
   "source": [
    "'''The accuracy is dying as because our data is linearly separable so applying non-linear kernel is not a \n",
    "great idea'''"
   ]
  },
  {
   "cell_type": "markdown",
   "metadata": {},
   "source": [
    "# With Dirty Dataset"
   ]
  },
  {
   "cell_type": "code",
   "execution_count": 246,
   "metadata": {},
   "outputs": [
    {
     "data": {
      "text/plain": [
       "0.28978140703517591"
      ]
     },
     "execution_count": 246,
     "metadata": {},
     "output_type": "execute_result"
    }
   ],
   "source": [
    "X_train = data\n",
    "pl = svm.OneClassSVM(kernel=\"poly\", gamma=2)\n",
    "pl.fit(x)\n",
    "scores=cross_val_score(pl,x,Y_train,cv=10,scoring='accuracy')\n",
    "scores.mean()"
   ]
  },
  {
   "cell_type": "markdown",
   "metadata": {},
   "source": [
    "# RandomForest Classifier"
   ]
  },
  {
   "cell_type": "markdown",
   "metadata": {},
   "source": [
    "# With Clean Dataset"
   ]
  },
  {
   "cell_type": "code",
   "execution_count": 219,
   "metadata": {},
   "outputs": [
    {
     "data": {
      "text/plain": [
       "0.79676381909547744"
      ]
     },
     "execution_count": 219,
     "metadata": {},
     "output_type": "execute_result"
    }
   ],
   "source": [
    "clf = RandomForestClassifier(max_depth=10,max_features=10,n_estimators=100,bootstrap=True, oob_score=False)\n",
    "scoresRF = cross_val_score(clf,X_train,y_train,cv=10,scoring='accuracy')\n",
    "scoresRF.mean()"
   ]
  },
  {
   "cell_type": "code",
   "execution_count": 220,
   "metadata": {},
   "outputs": [
    {
     "data": {
      "text/plain": [
       "RandomForestClassifier(bootstrap=True, class_weight=None, criterion='gini',\n",
       "            max_depth=10, max_features=10, max_leaf_nodes=None,\n",
       "            min_impurity_split=1e-07, min_samples_leaf=1,\n",
       "            min_samples_split=2, min_weight_fraction_leaf=0.0,\n",
       "            n_estimators=100, n_jobs=1, oob_score=False, random_state=None,\n",
       "            verbose=0, warm_start=False)"
      ]
     },
     "execution_count": 220,
     "metadata": {},
     "output_type": "execute_result"
    }
   ],
   "source": [
    "clf.fit(X_train,y_train)"
   ]
  },
  {
   "cell_type": "code",
   "execution_count": 221,
   "metadata": {
    "collapsed": true
   },
   "outputs": [],
   "source": [
    "#now you can see the importance of each feature in Forest.feature_importances_\n",
    "# these values will all add up to one.Let's call the \"important\" ones the ones that are above average.\n",
    "important_features = []\n",
    "for x,i in enumerate(clf.feature_importances_):\n",
    "    if i>np.average(clf.feature_importances_):\n",
    "        important_features.append(x)"
   ]
  },
  {
   "cell_type": "code",
   "execution_count": 222,
   "metadata": {},
   "outputs": [
    {
     "data": {
      "text/plain": [
       "['communityname',\n",
       " 'racepctblack',\n",
       " 'racePctWhite',\n",
       " 'racePctHisp',\n",
       " 'pctWInvInc',\n",
       " 'PctPopUnderPov',\n",
       " 'PctUnemployed',\n",
       " 'MalePctDivorce',\n",
       " 'FemalePctDiv',\n",
       " 'TotalPctDiv',\n",
       " 'PctFam2Par',\n",
       " 'PctKids2Par',\n",
       " 'PctYoungKids2Par',\n",
       " 'PctTeen2Par',\n",
       " 'NumIlleg',\n",
       " 'PctIlleg',\n",
       " 'PctNotSpeakEnglWell',\n",
       " 'PctLargHouseFam',\n",
       " 'PctPersOwnOccup',\n",
       " 'PctPersDenseHous',\n",
       " 'PctHousLess3BR',\n",
       " 'PctHousNoPhone']"
      ]
     },
     "execution_count": 222,
     "metadata": {},
     "output_type": "execute_result"
    }
   ],
   "source": [
    "names=features.columns.values\n",
    "consistent_features=[]\n",
    "for i in range(0,103):\n",
    "    if i in important_features:\n",
    "        consistent_features.append(names[i])\n",
    "consistent_features"
   ]
  },
  {
   "cell_type": "markdown",
   "metadata": {},
   "source": [
    "# With Dirty Dataset"
   ]
  },
  {
   "cell_type": "code",
   "execution_count": 247,
   "metadata": {},
   "outputs": [
    {
     "data": {
      "text/plain": [
       "0.84151686292157302"
      ]
     },
     "execution_count": 247,
     "metadata": {},
     "output_type": "execute_result"
    }
   ],
   "source": [
    "clf = RandomForestClassifier(max_depth=10,max_features=10,n_estimators=100,bootstrap=True, oob_score=False)\n",
    "scoresRF = cross_val_score(clf,x,Y_train,cv=10,scoring='accuracy')\n",
    "scoresRF.mean()"
   ]
  },
  {
   "cell_type": "code",
   "execution_count": 248,
   "metadata": {},
   "outputs": [
    {
     "data": {
      "text/plain": [
       "RandomForestClassifier(bootstrap=True, class_weight=None, criterion='gini',\n",
       "            max_depth=10, max_features=10, max_leaf_nodes=None,\n",
       "            min_impurity_split=1e-07, min_samples_leaf=1,\n",
       "            min_samples_split=2, min_weight_fraction_leaf=0.0,\n",
       "            n_estimators=100, n_jobs=1, oob_score=False, random_state=None,\n",
       "            verbose=0, warm_start=False)"
      ]
     },
     "execution_count": 248,
     "metadata": {},
     "output_type": "execute_result"
    }
   ],
   "source": [
    "clf.fit(x,Y_train)"
   ]
  },
  {
   "cell_type": "code",
   "execution_count": 249,
   "metadata": {
    "collapsed": true
   },
   "outputs": [],
   "source": [
    "#now you can see the importance of each feature in Forest.feature_importances_\n",
    "# these values will all add up to one.Let's call the \"important\" ones the ones that are above average.\n",
    "important_features = []\n",
    "for x,i in enumerate(clf.feature_importances_):\n",
    "    if i>np.average(clf.feature_importances_):\n",
    "        important_features.append(x)"
   ]
  },
  {
   "cell_type": "code",
   "execution_count": 250,
   "metadata": {},
   "outputs": [
    {
     "data": {
      "text/plain": [
       "['state',\n",
       " 'racePctAsian',\n",
       " 'racePctHisp',\n",
       " 'agePct12t29',\n",
       " 'pctWPubAsst',\n",
       " 'medFamInc',\n",
       " 'PctLess9thGrade',\n",
       " 'PctNotHSGrad',\n",
       " 'PctUnemployed',\n",
       " 'PctEmplManu',\n",
       " 'FemalePctDiv',\n",
       " 'PersPerFam',\n",
       " 'PctFam2Par',\n",
       " 'PctYoungKids2Par',\n",
       " 'PctTeen2Par',\n",
       " 'PctWorkMomYoungKids',\n",
       " 'PctWorkMom',\n",
       " 'NumImmig',\n",
       " 'PctImmigRecent',\n",
       " 'PctLargHouseOccup',\n",
       " 'PersPerOccupHous',\n",
       " 'MedNumBR',\n",
       " 'PctHousOwnOcc',\n",
       " 'PctVacMore6Mos',\n",
       " 'OwnOccLowQuart']"
      ]
     },
     "execution_count": 250,
     "metadata": {},
     "output_type": "execute_result"
    }
   ],
   "source": [
    "names=features.columns.values\n",
    "consistent_features=[]\n",
    "for i in range(0,103):\n",
    "    if i in important_features:\n",
    "        consistent_features.append(names[i])\n",
    "consistent_features"
   ]
  },
  {
   "cell_type": "code",
   "execution_count": 251,
   "metadata": {},
   "outputs": [
    {
     "data": {
      "text/plain": [
       "'From the above analysis it is quite clear that Random Forest is providing an accurayc almost like Linear SVM. \\nSO we can conclude by saying that unlike non-linear SVM,Random Forest is doing really well when it comes to accuracy\\n'"
      ]
     },
     "execution_count": 251,
     "metadata": {},
     "output_type": "execute_result"
    }
   ],
   "source": [
    "'''From the above analysis it is quite clear that Random Forest is providing an accurayc almost like Linear SVM. \n",
    "SO we can conclude by saying that unlike non-linear SVM,Random Forest is doing really well when it comes to accuracy\n",
    "'''"
   ]
  },
  {
   "cell_type": "markdown",
   "metadata": {},
   "source": [
    "# Finding The Most Useful Threshold"
   ]
  },
  {
   "cell_type": "code",
   "execution_count": 184,
   "metadata": {
    "collapsed": true
   },
   "outputs": [],
   "source": [
    "imb_data = pd.read_csv(\"communities-crime-clean.csv\")\n",
    "imb_data.loc[imb_data['ViolentCrimesPerPop'] > 0.15,'HighCrime']=True\n",
    "imb_data.loc[imb_data['ViolentCrimesPerPop'] <= 0.15,'HighCrime']=False"
   ]
  },
  {
   "cell_type": "code",
   "execution_count": 185,
   "metadata": {
    "collapsed": true
   },
   "outputs": [],
   "source": [
    "imb_dirty_data = pd.read_csv(\"communities-crime-full.csv\")\n",
    "imb_dirty_data.loc[imb_dirty_data['ViolentCrimesPerPop'] > 0.15,'HighCrime']=True\n",
    "imb_dirty_data.loc[imb_dirty_data['ViolentCrimesPerPop'] <= 0.15,'HighCrime']=False"
   ]
  },
  {
   "cell_type": "code",
   "execution_count": 193,
   "metadata": {},
   "outputs": [
    {
     "data": {
      "text/plain": [
       "'In order to find the most useful threshold,we have use error optimization technique and found that 50-50 split \\nof class attributes gives the best threshold for crime rate.Through this optimization technique we have found that\\nthe value of threshold should be 0.15 which gives almost 50-50 split of different class attrbutes.\\n'"
      ]
     },
     "execution_count": 193,
     "metadata": {},
     "output_type": "execute_result"
    }
   ],
   "source": [
    "'''In order to find the most useful threshold,we have use error optimization technique and found that 50-50 split \n",
    "of class attributes gives the best threshold for crime rate.Through this optimization technique we have found that\n",
    "the value of threshold should be 0.15 which gives almost 50-50 split of different class attrbutes.\n",
    "'''"
   ]
  },
  {
   "cell_type": "code",
   "execution_count": 186,
   "metadata": {},
   "outputs": [
    {
     "data": {
      "text/plain": [
       "False    1001\n",
       "True      992\n",
       "Name: HighCrime, dtype: int64"
      ]
     },
     "execution_count": 186,
     "metadata": {},
     "output_type": "execute_result"
    }
   ],
   "source": [
    "imb_data['HighCrime'].value_counts()"
   ]
  },
  {
   "cell_type": "code",
   "execution_count": 194,
   "metadata": {},
   "outputs": [
    {
     "data": {
      "text/plain": [
       "'From the above it is quite clear that having a threshold of 0.15 gives the best split of class attributes\\nas True and False instances are almost in same count for this threshold.\\n'"
      ]
     },
     "execution_count": 194,
     "metadata": {},
     "output_type": "execute_result"
    }
   ],
   "source": [
    "'''From the above it is quite clear that having a threshold of 0.15 gives the best split of class attributes\n",
    "as True and False instances are almost in same count for this threshold.\n",
    "'''"
   ]
  },
  {
   "cell_type": "code",
   "execution_count": 187,
   "metadata": {
    "collapsed": true
   },
   "outputs": [],
   "source": [
    "Y_train_imb = np.asarray(imb_data['HighCrime'], dtype=\"|S6\")\n",
    "Y_train_imb_dirty = np.asarray(imb_dirty_data['HighCrime'], dtype=\"|S6\")"
   ]
  },
  {
   "cell_type": "code",
   "execution_count": 188,
   "metadata": {
    "collapsed": true
   },
   "outputs": [],
   "source": [
    "imb_data.drop(['ViolentCrimesPerPop','HighCrime'],inplace = True,axis=1)\n",
    "imb_dirty_data.drop(['ViolentCrimesPerPop','HighCrime'],inplace = True,axis=1)"
   ]
  },
  {
   "cell_type": "code",
   "execution_count": 189,
   "metadata": {
    "collapsed": true
   },
   "outputs": [],
   "source": [
    "imb_data=replaceCommunityName(imb_data)\n",
    "imb_dirty_data=replaceCommunityName(imb_dirty_data)"
   ]
  },
  {
   "cell_type": "code",
   "execution_count": 190,
   "metadata": {
    "collapsed": true
   },
   "outputs": [],
   "source": [
    "X_train_imb = imb_data\n",
    "X_train_imb_dirty= imb_dirty_data"
   ]
  },
  {
   "cell_type": "code",
   "execution_count": 259,
   "metadata": {
    "collapsed": true
   },
   "outputs": [],
   "source": [
    "X_Dirty = X_train_imb_dirty.replace('?', np.NaN)\n",
    "imp = Imputer(missing_values='NaN', strategy='mean', axis=0)\n",
    "imp=imp.fit(X_Dirty)\n",
    "x =imp.transform(X_Dirty)"
   ]
  },
  {
   "cell_type": "markdown",
   "metadata": {},
   "source": [
    "# DecisionTreeClassifier"
   ]
  },
  {
   "cell_type": "markdown",
   "metadata": {},
   "source": [
    "# With Clean Dataset"
   ]
  },
  {
   "cell_type": "code",
   "execution_count": 253,
   "metadata": {},
   "outputs": [
    {
     "data": {
      "text/plain": [
       "0.71020335508387711"
      ]
     },
     "execution_count": 253,
     "metadata": {},
     "output_type": "execute_result"
    }
   ],
   "source": [
    "clf = DecisionTreeClassifier()\n",
    "clf.fit(X_train_imb,Y_train_imb)\n",
    "scores = cross_val_score(clf,X_train_imb,Y_train_imb,cv=10,scoring='accuracy')\n",
    "scores.mean()"
   ]
  },
  {
   "cell_type": "markdown",
   "metadata": {},
   "source": [
    "# With Dirty Dataset"
   ]
  },
  {
   "cell_type": "code",
   "execution_count": 260,
   "metadata": {},
   "outputs": [
    {
     "data": {
      "text/plain": [
       "0.75880769519237978"
      ]
     },
     "execution_count": 260,
     "metadata": {},
     "output_type": "execute_result"
    }
   ],
   "source": [
    "clf = DecisionTreeClassifier()\n",
    "clf.fit(x,Y_train_imb_dirty)\n",
    "scores = cross_val_score(clf,x,Y_train_imb_dirty,cv=10,scoring='accuracy')\n",
    "scores.mean()"
   ]
  },
  {
   "cell_type": "markdown",
   "metadata": {},
   "source": [
    "# LinearSVC"
   ]
  },
  {
   "cell_type": "markdown",
   "metadata": {},
   "source": [
    "# With Clean Dataset"
   ]
  },
  {
   "cell_type": "code",
   "execution_count": null,
   "metadata": {
    "collapsed": true
   },
   "outputs": [],
   "source": [
    "svc_imb = svm.SVC(kernel='linear')\n",
    "svc_imb.fit(X_train_imb,Y_train_imb)  \n",
    "scoresSV = cross_val_score(svc_imb,X_train_imb,Y_train_imb,cv=10,scoring='accuracy')\n",
    "scoresSV.mean()"
   ]
  },
  {
   "cell_type": "markdown",
   "metadata": {},
   "source": [
    "# With Dirty Dataset"
   ]
  },
  {
   "cell_type": "code",
   "execution_count": null,
   "metadata": {
    "collapsed": true
   },
   "outputs": [],
   "source": [
    "svc_imb = svm.SVC(kernel='linear')\n",
    "svc_imb.fit(x,Y_train_imb_dirty)  \n",
    "scoresSV = cross_val_score(svc_imb,x,Y_train_imb_dirty,cv=10,scoring='accuracy')\n",
    "scoresSV.mean()"
   ]
  },
  {
   "cell_type": "markdown",
   "metadata": {},
   "source": [
    "# RandomForestClassifier"
   ]
  },
  {
   "cell_type": "markdown",
   "metadata": {},
   "source": [
    "# With Clean Dataset"
   ]
  },
  {
   "cell_type": "code",
   "execution_count": 118,
   "metadata": {},
   "outputs": [
    {
     "data": {
      "text/plain": [
       "0.78389008475211885"
      ]
     },
     "execution_count": 118,
     "metadata": {},
     "output_type": "execute_result"
    }
   ],
   "source": [
    "clf = RandomForestClassifier(max_depth=10,max_features=10,n_estimators=100,bootstrap=True, oob_score=False)\n",
    "clf.fit(X_train_imb,Y_train_imb)\n",
    "scoresRF = cross_val_score(clf,X_train_imb,Y_train_imb,cv=10,scoring='accuracy')\n",
    "scoresRF.mean()"
   ]
  },
  {
   "cell_type": "markdown",
   "metadata": {},
   "source": [
    "# With Dirty Dataset"
   ]
  },
  {
   "cell_type": "code",
   "execution_count": 261,
   "metadata": {},
   "outputs": [
    {
     "data": {
      "text/plain": [
       "0.83598914972874316"
      ]
     },
     "execution_count": 261,
     "metadata": {},
     "output_type": "execute_result"
    }
   ],
   "source": [
    "clf = RandomForestClassifier(max_depth=10,max_features=10,n_estimators=100,bootstrap=True, oob_score=False)\n",
    "clf.fit(x,Y_train_imb_dirty)\n",
    "scoresRF = cross_val_score(clf,x,Y_train_imb_dirty,cv=10,scoring='accuracy')\n",
    "scoresRF.mean()"
   ]
  },
  {
   "cell_type": "code",
   "execution_count": null,
   "metadata": {
    "collapsed": true
   },
   "outputs": [],
   "source": [
    "'''From the above analysis it is quite clear that error optimization is great technique to find a good threshold \n",
    "for class attributes rather than just using one threshold value radomly. We can also see that after proper split \n",
    "of class attributes, we have got better and efficient result from our classifying algorithms.\n",
    "'''"
   ]
  },
  {
   "cell_type": "markdown",
   "metadata": {},
   "source": [
    "# 6. Extra Credit "
   ]
  },
  {
   "cell_type": "markdown",
   "metadata": {},
   "source": [
    "# Ada Boost Classifier"
   ]
  },
  {
   "cell_type": "code",
   "execution_count": 119,
   "metadata": {},
   "outputs": [
    {
     "data": {
      "text/plain": [
       "0.70543467336683419"
      ]
     },
     "execution_count": 119,
     "metadata": {},
     "output_type": "execute_result"
    }
   ],
   "source": [
    "X_train=data\n",
    "adaBoost = AdaBoostClassifier(n_estimators=100)\n",
    "scoresAB = cross_val_score(adaBoost,X_train,y_train,cv=10,scoring='accuracy')\n",
    "scoresAB.mean()"
   ]
  },
  {
   "cell_type": "code",
   "execution_count": 120,
   "metadata": {
    "collapsed": true
   },
   "outputs": [],
   "source": [
    "adaBoost.fit(X_train,y_train)\n",
    "important_features = adaBoost.feature_importances_"
   ]
  },
  {
   "cell_type": "code",
   "execution_count": 121,
   "metadata": {
    "collapsed": true
   },
   "outputs": [],
   "source": [
    "top_features={}\n",
    "for i in range(0,103):\n",
    "    top_features[names[i]]=important_features[i]"
   ]
  },
  {
   "cell_type": "code",
   "execution_count": 122,
   "metadata": {},
   "outputs": [
    {
     "data": {
      "text/plain": [
       "[('racePctWhite', 0.059999999999999998),\n",
       " ('PctKids2Par', 0.040000000000000001),\n",
       " ('blackPerCap', 0.040000000000000001),\n",
       " ('TotalPctDiv', 0.029999999999999999),\n",
       " ('agePct12t21', 0.029999999999999999),\n",
       " ('pctWInvInc', 0.029999999999999999),\n",
       " ('whitePerCap', 0.029999999999999999),\n",
       " ('FemalePctDiv', 0.02),\n",
       " ('MedOwnCostPctIncNoMtg', 0.02),\n",
       " ('NumStreet', 0.02),\n",
       " ('PctEmplManu', 0.02),\n",
       " ('PctEmplProfServ', 0.02),\n",
       " ('PctIlleg', 0.02),\n",
       " ('PctOccupMgmtProf', 0.02),\n",
       " ('PctPersDenseHous', 0.02),\n",
       " ('PctRecImmig10', 0.02),\n",
       " ('PctTeen2Par', 0.02),\n",
       " ('PersPerOccupHous', 0.02),\n",
       " ('PersPerRentOccHous', 0.02),\n",
       " ('agePct12t29', 0.02),\n",
       " ('indianPerCap', 0.02),\n",
       " ('pctWWage', 0.02),\n",
       " ('racepctblack', 0.02),\n",
       " ('state', 0.02),\n",
       " ('AsianPerCap', 0.01),\n",
       " ('HispPerCap', 0.01),\n",
       " ('HousVacant', 0.01),\n",
       " ('LandArea', 0.01),\n",
       " ('MalePctNevMarr', 0.01),\n",
       " ('MedRentPctHousInc', 0.01),\n",
       " ('NumImmig', 0.01),\n",
       " ('NumUnderPov', 0.01),\n",
       " ('OtherPerCap', 0.01),\n",
       " ('OwnOccLowQuart', 0.01),\n",
       " ('OwnOccMedVal', 0.01),\n",
       " ('PctBSorMore', 0.01),\n",
       " ('PctBornSameState', 0.01),\n",
       " ('PctEmploy', 0.01),\n",
       " ('PctFam2Par', 0.01),\n",
       " ('PctHousNoPhone', 0.01),\n",
       " ('PctHousOccup', 0.01),\n",
       " ('PctImmigRec10', 0.01),\n",
       " ('PctImmigRec5', 0.01),\n",
       " ('PctLess9thGrade', 0.01),\n",
       " ('PctNotHSGrad', 0.01),\n",
       " ('PctOccupManu', 0.01),\n",
       " ('PctPersOwnOccup', 0.01),\n",
       " ('PctPopUnderPov', 0.01),\n",
       " ('PctRecImmig5', 0.01),\n",
       " ('PctSameCity85', 0.01),\n",
       " ('PctSpeakEnglOnly', 0.01),\n",
       " ('PctVacMore6Mos', 0.01),\n",
       " ('PctVacantBoarded', 0.01),\n",
       " ('PctWOFullPlumb', 0.01),\n",
       " ('PctWorkMomYoungKids', 0.01),\n",
       " ('PctYoungKids2Par', 0.01),\n",
       " ('RentHighQ', 0.01),\n",
       " ('agePct16t24', 0.01),\n",
       " ('agePct65up', 0.01),\n",
       " ('communityname', 0.01),\n",
       " ('householdsize', 0.01),\n",
       " ('pctWFarmSelf', 0.01)]"
      ]
     },
     "execution_count": 122,
     "metadata": {},
     "output_type": "execute_result"
    }
   ],
   "source": [
    "top_features = { k:v for k, v in top_features.items() if v }\n",
    "most_predictive_features = sorted(top_features.iteritems(), key=lambda (k, v): (-v, k))[:62]\n",
    "most_predictive_features"
   ]
  },
  {
   "cell_type": "markdown",
   "metadata": {},
   "source": [
    "# Neural network models- Multi-layer Perceptron"
   ]
  },
  {
   "cell_type": "code",
   "execution_count": 123,
   "metadata": {
    "collapsed": true
   },
   "outputs": [],
   "source": [
    "clf = MLPClassifier(solver='lbfgs', alpha=1e-5,hidden_layer_sizes=(10,2), random_state=1)"
   ]
  },
  {
   "cell_type": "code",
   "execution_count": 124,
   "metadata": {},
   "outputs": [
    {
     "data": {
      "text/plain": [
       "MLPClassifier(activation='relu', alpha=1e-05, batch_size='auto', beta_1=0.9,\n",
       "       beta_2=0.999, early_stopping=False, epsilon=1e-08,\n",
       "       hidden_layer_sizes=(10, 2), learning_rate='constant',\n",
       "       learning_rate_init=0.001, max_iter=200, momentum=0.9,\n",
       "       nesterovs_momentum=True, power_t=0.5, random_state=1, shuffle=True,\n",
       "       solver='lbfgs', tol=0.0001, validation_fraction=0.1, verbose=False,\n",
       "       warm_start=False)"
      ]
     },
     "execution_count": 124,
     "metadata": {},
     "output_type": "execute_result"
    }
   ],
   "source": [
    "clf.fit(X_train, y_train)"
   ]
  },
  {
   "cell_type": "code",
   "execution_count": 125,
   "metadata": {
    "collapsed": true
   },
   "outputs": [],
   "source": [
    "scoresMLP = cross_val_score(clf,X_train,y_train,cv=10,scoring='accuracy')"
   ]
  },
  {
   "cell_type": "code",
   "execution_count": 126,
   "metadata": {},
   "outputs": [
    {
     "data": {
      "text/plain": [
       "0.79628391959798994"
      ]
     },
     "execution_count": 126,
     "metadata": {},
     "output_type": "execute_result"
    }
   ],
   "source": [
    "scoresMLP.mean()"
   ]
  },
  {
   "cell_type": "code",
   "execution_count": 127,
   "metadata": {
    "collapsed": true
   },
   "outputs": [],
   "source": [
    "coef=clf.coefs_"
   ]
  },
  {
   "cell_type": "markdown",
   "metadata": {},
   "source": [
    "# Radial Basis Function Kernel"
   ]
  },
  {
   "cell_type": "code",
   "execution_count": 128,
   "metadata": {
    "collapsed": true
   },
   "outputs": [],
   "source": [
    "rbf_feature = RBFSampler(gamma=1, random_state=1)\n",
    "X_features = rbf_feature.fit_transform(X_train)\n",
    "clf = SGDClassifier()\n",
    "clf.fit(X_features, y_train)\n",
    "scoresSDG= cross_val_score(clf,X_train,y_train,cv=10,scoring='accuracy')"
   ]
  },
  {
   "cell_type": "code",
   "execution_count": 130,
   "metadata": {},
   "outputs": [
    {
     "data": {
      "text/plain": [
       "0.55782914572864328"
      ]
     },
     "execution_count": 130,
     "metadata": {},
     "output_type": "execute_result"
    }
   ],
   "source": [
    "scoresSDG.mean()"
   ]
  },
  {
   "cell_type": "code",
   "execution_count": 180,
   "metadata": {},
   "outputs": [
    {
     "data": {
      "text/plain": [
       "'From the above analysis it is clear that a Multi-Layer-Perceptrons is giving the best accuracy for our data.\\nHere our MLP is trained with hidden layer size of (10,2), relu activation and an auto batch size.\\n'"
      ]
     },
     "execution_count": 180,
     "metadata": {},
     "output_type": "execute_result"
    }
   ],
   "source": [
    "'''From the above analysis it is clear that a Multi-Layer-Perceptrons is giving the best accuracy for our data.\n",
    "Here our MLP is trained with hidden layer size of (10,2), relu activation and an auto batch size.\n",
    "'''"
   ]
  },
  {
   "cell_type": "markdown",
   "metadata": {},
   "source": [
    "# Finding New Dataset Included From http://data.gov"
   ]
  },
  {
   "cell_type": "code",
   "execution_count": null,
   "metadata": {
    "collapsed": true
   },
   "outputs": [],
   "source": [
    "'''Downloaded demographics.csv sensus data and included one by one column from it to our original dataframe.\n",
    "After merging the data we found that the accuracy,precision and recall at each step and found that our intitial \n",
    "accuracy  is increasing rapidly'''"
   ]
  },
  {
   "cell_type": "code",
   "execution_count": null,
   "metadata": {
    "collapsed": true
   },
   "outputs": [],
   "source": [
    "df = pd.read_csv('communities-crime-clean.csv')\n",
    "demo_df = pd.read_csv('demographics.csv')"
   ]
  },
  {
   "cell_type": "code",
   "execution_count": 162,
   "metadata": {
    "collapsed": true
   },
   "outputs": [],
   "source": [
    "df['highCrime'] = 'false'\n",
    "\n",
    "for index, row in df.iterrows():\n",
    "    val = float(row['ViolentCrimesPerPop'])\n",
    "    if  val > 0.1:\n",
    "        df.set_value(index, 'highCrime', 'true')"
   ]
  },
  {
   "cell_type": "code",
   "execution_count": 163,
   "metadata": {
    "collapsed": true
   },
   "outputs": [],
   "source": [
    "df2 = df.copy()\n",
    "df2.drop('highCrime',inplace = True,axis = 1)#delete col in sec df2\n",
    "df2.drop('ViolentCrimesPerPop',inplace = True,axis = 1)\n",
    "df2=replaceCommunityName(df2)\n",
    "\n",
    "    "
   ]
  },
  {
   "cell_type": "code",
   "execution_count": 164,
   "metadata": {
    "collapsed": true
   },
   "outputs": [],
   "source": [
    "new_dataset = demo_df['MEDIAN HOUSEHOLD INCOME']\n",
    "total = len(new_dataset)\n",
    "old_dataset = df2.head(total)\n",
    "merged_x = pd.concat([old_dataset,new_dataset],axis=1)\n",
    "from sklearn.preprocessing import Imputer\n",
    "merged_x = merged_x.replace(np.NaN,0)\n",
    "\n",
    "merged_y = df['highCrime'].head(total)\n",
    "lb = LabelBinarizer()\n",
    "merged_y = np.array([number[0] for number in lb.fit_transform(merged_y)])"
   ]
  },
  {
   "cell_type": "code",
   "execution_count": 165,
   "metadata": {
    "collapsed": true
   },
   "outputs": [],
   "source": [
    "clf = RandomForestClassifier(max_depth=10,max_features=10,n_estimators=100,bootstrap=True, oob_score=False)"
   ]
  },
  {
   "cell_type": "code",
   "execution_count": 166,
   "metadata": {},
   "outputs": [
    {
     "data": {
      "text/plain": [
       "0.89494535519125673"
      ]
     },
     "execution_count": 166,
     "metadata": {},
     "output_type": "execute_result"
    }
   ],
   "source": [
    "scoresRF = cross_val_score(clf,merged_x,merged_y,cv=10,scoring='accuracy')\n",
    "scoresRF.mean()"
   ]
  },
  {
   "cell_type": "code",
   "execution_count": 167,
   "metadata": {},
   "outputs": [
    {
     "data": {
      "text/plain": [
       "'we can observe that after adding feature MEDIAN HOUSEHOLD INCOME from demographics dataset,accuracy has been\\nincreased from 80% to 87.68% which signifies that MEDIAN HOUSEHOLD INCOME is a crucial feture to predict crime in a \\nregion'"
      ]
     },
     "execution_count": 167,
     "metadata": {},
     "output_type": "execute_result"
    }
   ],
   "source": [
    "'''we can observe that after adding feature MEDIAN HOUSEHOLD INCOME from demographics dataset,accuracy has been\n",
    "increased which signifies that MEDIAN HOUSEHOLD INCOME is a crucial feture to predict crime in a \n",
    "region'''"
   ]
  },
  {
   "cell_type": "code",
   "execution_count": null,
   "metadata": {
    "collapsed": true
   },
   "outputs": [],
   "source": [
    "'''Accuracy, Precision and Recall after merging the column \"MEDIAN HOUSEHOLD INCOME\" from demographics.csv '''"
   ]
  },
  {
   "cell_type": "code",
   "execution_count": null,
   "metadata": {
    "collapsed": true
   },
   "outputs": [],
   "source": [
    "recallRF = cross_val_score(clf,merged_x,merged_y,cv=10,scoring='recall')\n",
    "precisionRF = cross_val_score(clf,merged_x,merged_y,cv=10,scoring='precision')\n",
    "print(\"Accuracy : %.4f\" %scoresRF.mean())\n",
    "print(\"Recall : %.4f\" %recallRF.mean())\n",
    "print(\"Precision : %.4f\" %precisionRF.mean())"
   ]
  },
  {
   "cell_type": "code",
   "execution_count": 169,
   "metadata": {},
   "outputs": [
    {
     "name": "stdout",
     "output_type": "stream",
     "text": [
      "Accuracy : 0.8916\n"
     ]
    }
   ],
   "source": [
    "new_dataset9 = demo_df['RENTER OCCUPIED HOUSING']\n",
    "merged_x = pd.concat([merged_x,new_dataset9],axis=1)\n",
    "merged_x = merged_x.replace(np.NaN,0)\n",
    "clf.fit(merged_x,merged_y)\n",
    "accuracy = cross_val_score(clf,merged_x,merged_y,cv=10,scoring='accuracy')\n"
   ]
  },
  {
   "cell_type": "code",
   "execution_count": null,
   "metadata": {
    "collapsed": true
   },
   "outputs": [],
   "source": [
    "'''Accuracy, Precision and Recall after merging the column \"RENTER OCCUPIED HOUSING\" from demographics.csv '''"
   ]
  },
  {
   "cell_type": "code",
   "execution_count": 170,
   "metadata": {},
   "outputs": [
    {
     "name": "stdout",
     "output_type": "stream",
     "text": [
      "Recall : 0.9729\n",
      "Precision : 0.9025\n"
     ]
    }
   ],
   "source": [
    "recallRF = cross_val_score(clf,merged_x,merged_y,cv=10,scoring='recall')\n",
    "precisionRF = cross_val_score(clf,merged_x,merged_y,cv=10,scoring='precision')\n",
    "print(\"Accuracy : %.4f\" %accuracy.mean())\n",
    "print(\"Recall : %.4f\" %recallRF.mean())\n",
    "print(\"Precision : %.4f\" %precisionRF.mean())"
   ]
  },
  {
   "cell_type": "code",
   "execution_count": 171,
   "metadata": {},
   "outputs": [
    {
     "data": {
      "text/plain": [
       "'Here again we have added another feature RENTER OCCUPIED HOUSING which seems not to be a good feature for crime\\nprediction as our accuracy has been decreased. '"
      ]
     },
     "execution_count": 171,
     "metadata": {},
     "output_type": "execute_result"
    }
   ],
   "source": [
    "'''Here again we have added another feature RENTER OCCUPIED HOUSING which seems not to be a good feature for crime\n",
    "prediction as our accuracy has been decreased. '''"
   ]
  },
  {
   "cell_type": "code",
   "execution_count": 173,
   "metadata": {},
   "outputs": [
    {
     "name": "stdout",
     "output_type": "stream",
     "text": [
      "Accuracy : 0.8867\n"
     ]
    }
   ],
   "source": [
    "new_dataset3 = demo_df['BACHELORS DEGREE MALE']\n",
    "new_dataset4 = demo_df['MASTERS DEGREE MALE']\n",
    "new_dataset_merged = pd.concat([new_dataset3,new_dataset4],axis=1)\n",
    "merged_x = pd.concat([merged_x,new_dataset_merged],axis=1)\n",
    "merged_x = merged_x.replace(np.NaN,0)\n",
    "clf.fit(merged_x,merged_y)\n",
    "accuracy = cross_val_score(clf,merged_x,merged_y,cv=10,scoring='accuracy')"
   ]
  },
  {
   "cell_type": "code",
   "execution_count": 174,
   "metadata": {},
   "outputs": [
    {
     "data": {
      "text/plain": [
       "'Here we can observe that features BACHELORS DEGREE MALE and MASTERS DEGREE MALE are also not so helpful to \\ndetect crime a in region.'"
      ]
     },
     "execution_count": 174,
     "metadata": {},
     "output_type": "execute_result"
    }
   ],
   "source": [
    "'''Here we can observe that features BACHELORS DEGREE MALE and MASTERS DEGREE MALE are also not so helpful to \n",
    "detect crime a in region.'''"
   ]
  },
  {
   "cell_type": "code",
   "execution_count": null,
   "metadata": {
    "collapsed": true
   },
   "outputs": [],
   "source": [
    "'''Accuracy, Precision and Recall after merging two columns \"BACHELORS DEGREE MALE\" and \"MASTERS DEGREE MALE\" from\n",
    " demographics.csv'''"
   ]
  },
  {
   "cell_type": "code",
   "execution_count": null,
   "metadata": {
    "collapsed": true
   },
   "outputs": [],
   "source": [
    "recallRF = cross_val_score(clf,merged_x,merged_y,cv=10,scoring='recall')\n",
    "precisionRF = cross_val_score(clf,merged_x,merged_y,cv=10,scoring='precision')\n",
    "print(\"Accuracy : %.4f\" %accuracy.mean())\n",
    "print(\"Recall : %.4f\" %recallRF.mean())\n",
    "print(\"Precision : %.4f\" %precisionRF.mean())"
   ]
  },
  {
   "cell_type": "code",
   "execution_count": 175,
   "metadata": {
    "collapsed": true
   },
   "outputs": [],
   "source": [
    "new_dataset2 = demo_df['HIGH SCHOOL MALE']\n",
    "new_dataset5 = demo_df['HIGH SCHOOL FEMALE']\n",
    "test1 = pd.concat([new_dataset2,new_dataset5],axis=1)\n",
    "new_dataset6 = demo_df['COLLEGE 1 YR LESS MALE']\n",
    "new_dataset7 = demo_df['COLLEGE 1 YR MORE MALE']\n",
    "test2 = pd.concat([new_dataset6,new_dataset7],axis=1)\n",
    "test3 = pd.concat([test1,test2],axis=1)\n",
    "new_dataset8 = demo_df['HIGH SCHOOL MORE FEMALE']\n",
    "new_dataset9 = demo_df['BLOCK GROUP']\n",
    "test4 = pd.concat([new_dataset8,new_dataset9],axis=1)\n",
    "test5 = pd.concat([test3,test4],axis=1)"
   ]
  },
  {
   "cell_type": "code",
   "execution_count": 176,
   "metadata": {},
   "outputs": [
    {
     "name": "stdout",
     "output_type": "stream",
     "text": [
      "Accuracy : 0.8818\n"
     ]
    }
   ],
   "source": [
    "merged_x = pd.concat([merged_x,test5],axis=1)\n",
    "merged_x = merged_x.replace(np.NaN,0)\n",
    "clf.fit(merged_x,merged_y)\n",
    "accuracy = cross_val_score(clf,merged_x,merged_y,cv=10,scoring='accuracy')\n"
   ]
  },
  {
   "cell_type": "code",
   "execution_count": null,
   "metadata": {
    "collapsed": true
   },
   "outputs": [],
   "source": [
    "'''Accuracy, Precision and Recall after merging six columns \"HIGH SCHOOL MALE\",\"HIGH SCHOOL FEMALE\",\n",
    "\"COLLEGE 1 YR LESS MALE\",\"COLLEGE 1 YR MORE MALE\",\"HIGH SCHOOL MORE FEMALE\",\"BLOCK GROUP\" from demographics.csv '''"
   ]
  },
  {
   "cell_type": "code",
   "execution_count": 177,
   "metadata": {},
   "outputs": [
    {
     "name": "stdout",
     "output_type": "stream",
     "text": [
      "Recall : 0.9541\n",
      "Precision : 0.9019\n"
     ]
    }
   ],
   "source": [
    "recallRF = cross_val_score(clf,merged_x,merged_y,cv=10,scoring='recall')\n",
    "precisionRF = cross_val_score(clf,merged_x,merged_y,cv=10,scoring='precision')\n",
    "print(\"Accuracy : %.4f\" %accuracy.mean())\n",
    "print(\"Recall : %.4f\" %recallRF.mean())\n",
    "print(\"Precision : %.4f\" %precisionRF.mean())"
   ]
  },
  {
   "cell_type": "code",
   "execution_count": 178,
   "metadata": {},
   "outputs": [
    {
     "data": {
      "text/plain": [
       "'Finally we can see that features like HIGH SCHOOL MALE,HIGH SCHOOL FEMALE,COLLEGE 1 YR LESS MALE,\\nCOLLEGE 1 YR MORE MALE,HIGH SCHOOL MORE FEMALE,BLOCK GROUP are helpful to detect crime in a region.\\n'"
      ]
     },
     "execution_count": 178,
     "metadata": {},
     "output_type": "execute_result"
    }
   ],
   "source": [
    "'''Finally we can see that features like HIGH SCHOOL MALE,HIGH SCHOOL FEMALE,COLLEGE 1 YR LESS MALE,\n",
    "COLLEGE 1 YR MORE MALE,HIGH SCHOOL MORE FEMALE,BLOCK GROUP are helpful to detect crime in a region.\n",
    "'''"
   ]
  },
  {
   "cell_type": "code",
   "execution_count": 179,
   "metadata": {},
   "outputs": [
    {
     "data": {
      "text/plain": [
       "'So far we have added 10 features from demographics data and we can observe that some of the features \\nhelped us a lot to detect crime in a region.So Yes the added data helped a lot in improving the accuracy. \\nWe have also applied classifier like linear SVM and Random forest and each of them performs different way when it \\ncomes to predict accuracy'"
      ]
     },
     "execution_count": 179,
     "metadata": {},
     "output_type": "execute_result"
    }
   ],
   "source": [
    "'''So far we have added 10 features from demographics data and we can observe that some of the features \n",
    "helped us a lot to detect crime in a region.So Yes the added data helped a lot in improving the accuracy. \n",
    "We have also applied classifier like linear SVM and Random forest and each of them performs different way when it \n",
    "comes to predict accuracy'''"
   ]
  },
  {
   "cell_type": "code",
   "execution_count": null,
   "metadata": {
    "collapsed": true
   },
   "outputs": [],
   "source": []
  },
  {
   "cell_type": "code",
   "execution_count": null,
   "metadata": {
    "collapsed": true
   },
   "outputs": [],
   "source": []
  }
 ],
 "metadata": {
  "kernelspec": {
   "display_name": "Python 2",
   "language": "python",
   "name": "python2"
  },
  "language_info": {
   "codemirror_mode": {
    "name": "ipython",
    "version": 2
   },
   "file_extension": ".py",
   "mimetype": "text/x-python",
   "name": "python",
   "nbconvert_exporter": "python",
   "pygments_lexer": "ipython2",
   "version": "2.7.12"
  }
 },
 "nbformat": 4,
 "nbformat_minor": 2
}
